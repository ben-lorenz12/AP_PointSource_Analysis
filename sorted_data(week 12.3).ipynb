{
 "cells": [
  {
   "cell_type": "code",
   "execution_count": 1,
   "metadata": {
    "scrolled": false
   },
   "outputs": [],
   "source": [
    "import numpy as np\n",
    "import matplotlib.pyplot as plt\n",
    "#getting and sorting data\n",
    "data = np.loadtxt(\"/home/icvmuser/Downloads/3year-data-release/IC79-2010-events.txt\", skiprows=1)\n",
    "data = data[data[:,1].argsort()]  #Selects column number\n",
    "data = data.transpose() #flipping array\n"
   ]
  },
  {
   "cell_type": "code",
   "execution_count": 2,
   "metadata": {},
   "outputs": [
    {
     "name": "stdout",
     "output_type": "stream",
     "text": [
      "[2.5625 2.5853 2.6361 ... 6.7726 6.7838 6.8393]\n"
     ]
    }
   ],
   "source": [
    "energy = data[1]\n",
    "print(energy)"
   ]
  },
  {
   "cell_type": "code",
   "execution_count": 3,
   "metadata": {},
   "outputs": [
    {
     "name": "stdout",
     "output_type": "stream",
     "text": [
      "9313\n"
     ]
    }
   ],
   "source": [
    "eventsperbin = len(energy)//10\n",
    "print(eventsperbin)\n",
    "#Three remain"
   ]
  },
  {
   "cell_type": "code",
   "execution_count": 4,
   "metadata": {},
   "outputs": [
    {
     "name": "stdout",
     "output_type": "stream",
     "text": [
      "[[ 5.54772836e+04  5.53561709e+04  5.53673025e+04 ...  5.53977529e+04\n",
      "   5.56224924e+04  5.56513963e+04]\n",
      " [ 3.91080000e+00  3.91080000e+00  3.91090000e+00 ...  4.59080000e+00\n",
      "   4.59090000e+00  4.59090000e+00]\n",
      " [ 5.90100000e-01  1.08050000e+00  4.64300000e-01 ...  6.20700000e-01\n",
      "   7.32500000e-01  1.86200000e-01]\n",
      " ...\n",
      " [ 3.33812000e+01  1.41160000e+00 -6.69400000e+00 ... -1.18993000e+01\n",
      "  -1.11698000e+01 -1.36821000e+01]\n",
      " [ 2.82209500e+02  1.04908700e+02  1.01033700e+02 ...  2.05595500e+02\n",
      "   9.92060000e+01  7.42081000e+01]\n",
      " [ 1.23406700e+02  9.14403000e+01  8.33629000e+01 ...  7.80952000e+01\n",
      "   7.88793000e+01  7.63779000e+01]]\n"
     ]
    }
   ],
   "source": [
    "#Making arrays for each bin\n",
    "np.set_printoptions(threshold=1000)\n",
    "bin1 = data[:,:eventsperbin]\n",
    "bin2 = data[:,9313:18626]\n",
    "bin3 = data[:,2*eventsperbin:3*eventsperbin]\n",
    "bin4 = data[:,3*eventsperbin:4*eventsperbin]\n",
    "bin5 = data[:,4*eventsperbin:5*eventsperbin]\n",
    "bin6 = data[:,5*eventsperbin:6*eventsperbin]\n",
    "bin7 = data[:,6*eventsperbin:7*eventsperbin]\n",
    "bin8 = data[:,7*eventsperbin:8*eventsperbin]\n",
    "bin9 = data[:,8*eventsperbin:9*eventsperbin]\n",
    "bin10 = data[:,9*eventsperbin:93130]\n",
    "print(bin7)"
   ]
  },
  {
   "cell_type": "code",
   "execution_count": 5,
   "metadata": {},
   "outputs": [],
   "source": [
    "#returns a list of random ra and dec histogram values\n",
    "def null_values(x, y):\n",
    "    np.random.seed(x)\n",
    "    randomra = 360 * np.random.random_sample((1, 9313))\n",
    "\n",
    "    xedges = np.linspace(0, 360, num=90)\n",
    "    yedges = np.linspace(-90, 90, num=45)\n",
    "\n",
    "    x = randomra[0]\n",
    "    y = y\n",
    "\n",
    "    H, xedges, yedges = np.histogram2d(x, y, bins=(xedges, yedges))\n",
    "    return H.flatten()"
   ]
  },
  {
   "cell_type": "code",
   "execution_count": 6,
   "metadata": {},
   "outputs": [],
   "source": [
    "def average_nullvalues(x, y):\n",
    "    a = null_values(0, y)\n",
    "    c = np.arange(1, x)\n",
    "    for item in c:\n",
    "        b = null_values(item, y)\n",
    "        a = np.add(a, b)\n",
    "    average = a / x\n",
    "    return average.flatten()"
   ]
  },
  {
   "cell_type": "code",
   "execution_count": 7,
   "metadata": {},
   "outputs": [],
   "source": [
    "average_background10 = average_nullvalues(10000, bin10[4])\n",
    "average_background9 = average_nullvalues(10000, bin9[4])\n",
    "average_background8 = average_nullvalues(10000, bin8[4])\n",
    "average_background7 = average_nullvalues(10000, bin7[4])\n",
    "average_background6 = average_nullvalues(10000, bin6[4])\n",
    "average_background5 = average_nullvalues(10000, bin5[4])\n",
    "average_background4 = average_nullvalues(10000, bin4[4])\n",
    "average_background3 = average_nullvalues(10000, bin3[4])\n",
    "average_background2 = average_nullvalues(10000, bin2[4])\n",
    "average_background1 = average_nullvalues(10000, bin1[4])"
   ]
  },
  {
   "cell_type": "code",
   "execution_count": 8,
   "metadata": {},
   "outputs": [],
   "source": [
    "#returns a list of observed ra and dec histogram values\n",
    "def observed_values(thing1, thing2):\n",
    "    \n",
    "    xedges = np.linspace(0, 360, num=90)\n",
    "    yedges = np.linspace(-90, 90, num=45)\n",
    "\n",
    "    x = thing1\n",
    "    y = thing2\n",
    "\n",
    "    H, xedges, yedges = np.histogram2d(x, y, bins=(xedges, yedges))\n",
    "    return H.flatten()"
   ]
  },
  {
   "cell_type": "code",
   "execution_count": 9,
   "metadata": {},
   "outputs": [],
   "source": [
    "def null_chi_squared_withseed(x, y, z):\n",
    "    a = null_values(x, y)\n",
    "    b = z\n",
    "    values = np.subtract(a, b)\n",
    "    values = np.square(values)\n",
    "    values = np.sum(values)\n",
    "    return values"
   ]
  },
  {
   "cell_type": "code",
   "execution_count": 10,
   "metadata": {},
   "outputs": [],
   "source": [
    "def null_chi_squared_distrib(x, y, z, w):\n",
    "    c = np.array([])\n",
    "    a = np.arange(x, y)\n",
    "    for item in a:\n",
    "        b = null_chi_squared_withseed(item, z, w)\n",
    "        c = np.append(c, b)\n",
    "    return c"
   ]
  },
  {
   "cell_type": "code",
   "execution_count": 11,
   "metadata": {},
   "outputs": [],
   "source": [
    "null_chi10 = null_chi_squared_distrib(0, 10000, bin10[4], average_background10)\n",
    "null_chi9 = null_chi_squared_distrib(0, 10000, bin9[4], average_background9)\n",
    "null_chi8 = null_chi_squared_distrib(0, 10000, bin8[4], average_background8)\n",
    "null_chi7 = null_chi_squared_distrib(0, 10000, bin7[4], average_background7)\n",
    "null_chi6 = null_chi_squared_distrib(0, 10000, bin6[4], average_background6)\n",
    "null_chi5 = null_chi_squared_distrib(0, 10000, bin5[4], average_background5)\n",
    "null_chi4 = null_chi_squared_distrib(0, 10000, bin4[4], average_background4)\n",
    "null_chi3 = null_chi_squared_distrib(0, 10000, bin3[4], average_background3)\n",
    "null_chi2 = null_chi_squared_distrib(0, 10000, bin2[4], average_background2)\n",
    "null_chi1 = null_chi_squared_distrib(0, 10000, bin1[4], average_background1)"
   ]
  },
  {
   "cell_type": "code",
   "execution_count": 12,
   "metadata": {},
   "outputs": [],
   "source": [
    "#adds counts to a random backgroud array\n",
    "def add_points_beta(rangestart, rangeend, num_counts, total_counts, thing1, raordec):\n",
    "    l = np.array([np.linspace(rangestart, rangeend, num=num_counts)])\n",
    "    random_array = thing1\n",
    "    random_array = np.append(random_array, l[0])\n",
    "    return random_array"
   ]
  },
  {
   "cell_type": "code",
   "execution_count": 13,
   "metadata": {},
   "outputs": [],
   "source": [
    "def add_clusters_beta(num_clusters, num_counts, range_size, sample_max, sample_min, raordec, x):\n",
    "    if raordec == True:\n",
    "        a = 360 * np.random.random_sample((1, 9313-((num_counts)*(num_clusters))))\n",
    "        array_like1 = a[0]\n",
    "    else:\n",
    "        a = x\n",
    "        array_like1 = np.delete(a, np.s_[0:(num_clusters*num_counts)])\n",
    "    numtimes = (sample_max - sample_min) * np.random.random_sample((1, num_clusters)) + sample_min\n",
    "    for item in numtimes[0]:\n",
    "        array_like1 = add_points_beta((item - range_size), item, num_counts, (num_counts)*(num_clusters), array_like1, raordec)\n",
    "    return array_like1"
   ]
  },
  {
   "cell_type": "code",
   "execution_count": 14,
   "metadata": {},
   "outputs": [],
   "source": [
    "#arrays cannot have same seed\n",
    "def alt_values_beta(num_clusters, num_counts, range_size, seed, array):\n",
    "    np.random.seed(seed)\n",
    "    xedges = np.linspace(0, 360, num=90)\n",
    "    yedges = np.linspace(-90, 90, num=45)\n",
    "\n",
    "    x = add_clusters_beta(num_clusters, num_counts, range_size, 360, 0, True, array)\n",
    "    y = add_clusters_beta(num_clusters, num_counts, range_size, 90, -90, False, array)\n",
    "\n",
    "    H, ___, ___= np.histogram2d(x, y, bins=(xedges, yedges))\n",
    "    return H.flatten()"
   ]
  },
  {
   "cell_type": "code",
   "execution_count": 15,
   "metadata": {},
   "outputs": [],
   "source": [
    "def alt_chi_squared_withseed(num_clusters, num_counts, range_size, x, seed, array):\n",
    "    a = x\n",
    "    b = alt_values_beta(num_clusters, num_counts, range_size, seed, array)\n",
    "    values = np.subtract(b, a)\n",
    "    values = np.square(values)\n",
    "    values = np.sum(values)\n",
    "    return values"
   ]
  },
  {
   "cell_type": "code",
   "execution_count": 16,
   "metadata": {},
   "outputs": [],
   "source": [
    "def alt_chi_squared_distrib(y, num_clusters, num_counts, range_size, x, array):\n",
    "    c = np.array([])\n",
    "    a = np.arange(y)\n",
    "    for item in a:\n",
    "        b = alt_chi_squared_withseed(num_clusters, num_counts, range_size, x, item, array)\n",
    "        c = np.append(c, b)\n",
    "    return c"
   ]
  },
  {
   "cell_type": "code",
   "execution_count": 17,
   "metadata": {},
   "outputs": [],
   "source": [
    "alt_chi10 = alt_chi_squared_distrib(10000, 3, 100, 1, average_background10, bin10[4])\n",
    "alt_chi9 = alt_chi_squared_distrib(10000, 3, 100, 1, average_background9, bin9[4])\n",
    "alt_chi8 = alt_chi_squared_distrib(10000, 3, 100, 1, average_background8, bin8[4])\n",
    "alt_chi7 = alt_chi_squared_distrib(10000, 3, 100, 1, average_background7, bin7[4])\n",
    "alt_chi6 = alt_chi_squared_distrib(10000, 3, 100, 1, average_background6, bin6[4])\n",
    "alt_chi5 = alt_chi_squared_distrib(10000, 3, 100, 1, average_background5, bin5[4])\n",
    "alt_chi4 = alt_chi_squared_distrib(10000, 3, 100, 1, average_background4, bin4[4])\n",
    "alt_chi3 = alt_chi_squared_distrib(10000, 3, 100, 1, average_background3, bin3[4])\n",
    "alt_chi2 = alt_chi_squared_distrib(10000, 3, 100, 1, average_background2, bin2[4])\n",
    "alt_chi1 = alt_chi_squared_distrib(10000, 3, 100, 1, average_background1, bin1[4])"
   ]
  },
  {
   "cell_type": "code",
   "execution_count": 18,
   "metadata": {},
   "outputs": [],
   "source": [
    "def real_chi_squared(thing1, thing2, a):\n",
    "    b = observed_values(thing1, thing2)\n",
    "    values = np.subtract(b, a)\n",
    "    values = np.square(values)\n",
    "    values = np.sum(values)\n",
    "    return values"
   ]
  },
  {
   "cell_type": "code",
   "execution_count": 19,
   "metadata": {},
   "outputs": [],
   "source": [
    "#chi squared values\n",
    "chi_1 = real_chi_squared(bin1[3], bin1[4], average_background1)\n",
    "chi_2 = real_chi_squared(bin2[3], bin2[4], average_background2)\n",
    "chi_3 = real_chi_squared(bin3[3], bin4[4], average_background3)\n",
    "chi_4 = real_chi_squared(bin4[3], bin4[4], average_background4)\n",
    "chi_5 = real_chi_squared(bin5[3], bin5[4], average_background5)\n",
    "chi_6 = real_chi_squared(bin6[3], bin6[4], average_background6)\n",
    "chi_7 = real_chi_squared(bin7[3], bin7[4], average_background7)\n",
    "chi_8 = real_chi_squared(bin8[3], bin8[4], average_background8)\n",
    "chi_9 = real_chi_squared(bin9[3], bin9[4], average_background9)\n",
    "chi_10 = real_chi_squared(bin10[3], bin10[4], average_background10)"
   ]
  },
  {
   "cell_type": "code",
   "execution_count": 21,
   "metadata": {
    "scrolled": true
   },
   "outputs": [
    {
     "data": {
      "image/png": "[encoded data removed]",
      "text/plain": [
       "<Figure size 432x288 with 1 Axes>"
      ]
     },
     "metadata": {},
     "output_type": "display_data"
    }
   ],
   "source": [
    "x1 = null_chi10\n",
    "x2 = alt_chi10\n",
    "\n",
    "fig, ax = plt.subplots()\n",
    "plt.hist(x1, bins=10, label='null')\n",
    "plt.hist(x2, bins=10, label='alt')\n",
    "#ax.axvline(x=chi_10, color='m', linestyle='dashed', linewidth=2, label='chi 10')\n",
    "#ax.axvline(x=chi_9, color='b', linestyle='dashed', linewidth=2, label='chi 9')\n",
    "#ax.axvline(x=chi_8, color='r', linestyle='dashed', linewidth=2, label='chi 8')\n",
    "#ax.axvline(x=chi_7, color='c', linestyle='dashed', linewidth=2, label='chi 7')\n",
    "#ax.axvline(x=chi_6, color='m', linestyle='dashed', linewidth=2, label='chi 6')\n",
    "#ax.axvline(x=chi_5, color='y', linestyle='dashed', linewidth=2, label='chi 5')\n",
    "#ax.axvline(x=chi_4, color='k', linestyle='dashed', linewidth=2, label='chi 4')\n",
    "#ax.axvline(x=chi_3, color='tab:orange', linestyle='dashed', linewidth=2, label='chi 3')\n",
    "#ax.axvline(x=chi_2, color='tab:brown', linestyle='dashed', linewidth=2, label='chi 2')\n",
    "#ax.axvline(x=chi_1, color='grey', linestyle='dashed', linewidth=2, label='chi 1')\n",
    "\n",
    "ax.legend()\n",
    "\n",
    "plt.show()"
   ]
  },
  {
   "cell_type": "code",
   "execution_count": 77,
   "metadata": {},
   "outputs": [
    {
     "data": {
      "image/png": "[encoded data removed]",
      "text/plain": [
       "<Figure size 432x288 with 1 Axes>"
      ]
     },
     "metadata": {},
     "output_type": "display_data"
    }
   ],
   "source": [
    "x1 = null_chi9\n",
    "x2 = alt_chi9\n",
    "\n",
    "fig, ax = plt.subplots()\n",
    "plt.hist(x1, bins=10, label='null')\n",
    "plt.hist(x2, bins=10, label='alt')\n",
    "#ax.axvline(x=chi_10, color='m', linestyle='dashed', linewidth=2, label='chi 10')\n",
    "ax.axvline(x=chi_9, color='m', linestyle='dashed', linewidth=2, label='chi 9')\n",
    "#ax.axvline(x=chi_8, color='r', linestyle='dashed', linewidth=2, label='chi 8')\n",
    "#ax.axvline(x=chi_7, color='c', linestyle='dashed', linewidth=2, label='chi 7')\n",
    "#ax.axvline(x=chi_6, color='m', linestyle='dashed', linewidth=2, label='chi 6')\n",
    "#ax.axvline(x=chi_5, color='y', linestyle='dashed', linewidth=2, label='chi 5')\n",
    "#ax.axvline(x=chi_4, color='k', linestyle='dashed', linewidth=2, label='chi 4')\n",
    "#ax.axvline(x=chi_3, color='tab:orange', linestyle='dashed', linewidth=2, label='chi 3')\n",
    "#ax.axvline(x=chi_2, color='tab:brown', linestyle='dashed', linewidth=2, label='chi 2')\n",
    "#ax.axvline(x=chi_1, color='grey', linestyle='dashed', linewidth=2, label='chi 1')\n",
    "\n",
    "ax.legend()\n",
    "\n",
    "plt.show()"
   ]
  },
  {
   "cell_type": "code",
   "execution_count": 78,
   "metadata": {},
   "outputs": [
    {
     "data": {
      "image/png": "[encoded data removed]",
      "text/plain": [
       "<Figure size 432x288 with 1 Axes>"
      ]
     },
     "metadata": {},
     "output_type": "display_data"
    }
   ],
   "source": [
    "x1 = null_chi8\n",
    "x2 = alt_chi8\n",
    "\n",
    "fig, ax = plt.subplots()\n",
    "plt.hist(x1, bins=10, label='null')\n",
    "plt.hist(x2, bins=10, label='alt')\n",
    "#ax.axvline(x=chi_10, color='m', linestyle='dashed', linewidth=2, label='chi 10')\n",
    "#ax.axvline(x=chi_9, color='b', linestyle='dashed', linewidth=2, label='chi 9')\n",
    "ax.axvline(x=chi_8, color='m', linestyle='dashed', linewidth=2, label='chi 8')\n",
    "#ax.axvline(x=chi_7, color='c', linestyle='dashed', linewidth=2, label='chi 7')\n",
    "#ax.axvline(x=chi_6, color='m', linestyle='dashed', linewidth=2, label='chi 6')\n",
    "#ax.axvline(x=chi_5, color='y', linestyle='dashed', linewidth=2, label='chi 5')\n",
    "#ax.axvline(x=chi_4, color='k', linestyle='dashed', linewidth=2, label='chi 4')\n",
    "#ax.axvline(x=chi_3, color='tab:orange', linestyle='dashed', linewidth=2, label='chi 3')\n",
    "#ax.axvline(x=chi_2, color='tab:brown', linestyle='dashed', linewidth=2, label='chi 2')\n",
    "#ax.axvline(x=chi_1, color='grey', linestyle='dashed', linewidth=2, label='chi 1')\n",
    "\n",
    "ax.legend()\n",
    "\n",
    "plt.show()"
   ]
  },
  {
   "cell_type": "code",
   "execution_count": 79,
   "metadata": {
    "scrolled": true
   },
   "outputs": [
    {
     "data": {
      "image/png": "[encoded data removed]",
      "text/plain": [
       "<Figure size 432x288 with 1 Axes>"
      ]
     },
     "metadata": {},
     "output_type": "display_data"
    }
   ],
   "source": [
    "x1 = null_chi7\n",
    "x2 = alt_chi7\n",
    "\n",
    "fig, ax = plt.subplots()\n",
    "plt.hist(x1, bins=10, label='null')\n",
    "plt.hist(x2, bins=10, label='alt')\n",
    "#ax.axvline(x=chi_10, color='m', linestyle='dashed', linewidth=2, label='chi 10')\n",
    "#ax.axvline(x=chi_9, color='b', linestyle='dashed', linewidth=2, label='chi 9')\n",
    "#ax.axvline(x=chi_8, color='m', linestyle='dashed', linewidth=2, label='chi 8')\n",
    "ax.axvline(x=chi_7, color='m', linestyle='dashed', linewidth=2, label='chi 7')\n",
    "#ax.axvline(x=chi_6, color='m', linestyle='dashed', linewidth=2, label='chi 6')\n",
    "#ax.axvline(x=chi_5, color='y', linestyle='dashed', linewidth=2, label='chi 5')\n",
    "#ax.axvline(x=chi_4, color='k', linestyle='dashed', linewidth=2, label='chi 4')\n",
    "#ax.axvline(x=chi_3, color='tab:orange', linestyle='dashed', linewidth=2, label='chi 3')\n",
    "#ax.axvline(x=chi_2, color='tab:brown', linestyle='dashed', linewidth=2, label='chi 2')\n",
    "#ax.axvline(x=chi_1, color='grey', linestyle='dashed', linewidth=2, label='chi 1')\n",
    "\n",
    "ax.legend()\n",
    "\n",
    "plt.show()"
   ]
  },
  {
   "cell_type": "code",
   "execution_count": 80,
   "metadata": {},
   "outputs": [
    {
     "data": {
      "image/png": "[encoded data removed]",
      "text/plain": [
       "<Figure size 432x288 with 1 Axes>"
      ]
     },
     "metadata": {},
     "output_type": "display_data"
    }
   ],
   "source": [
    "x1 = null_chi6\n",
    "x2 = alt_chi6\n",
    "\n",
    "fig, ax = plt.subplots()\n",
    "plt.hist(x1, bins=10, label='null')\n",
    "plt.hist(x2, bins=10, label='alt')\n",
    "#ax.axvline(x=chi_10, color='m', linestyle='dashed', linewidth=2, label='chi 10')\n",
    "#ax.axvline(x=chi_9, color='b', linestyle='dashed', linewidth=2, label='chi 9')\n",
    "#ax.axvline(x=chi_8, color='m', linestyle='dashed', linewidth=2, label='chi 8')\n",
    "#ax.axvline(x=chi_7, color='c', linestyle='dashed', linewidth=2, label='chi 7')\n",
    "ax.axvline(x=chi_6, color='m', linestyle='dashed', linewidth=2, label='chi 6')\n",
    "#ax.axvline(x=chi_5, color='y', linestyle='dashed', linewidth=2, label='chi 5')\n",
    "#ax.axvline(x=chi_4, color='k', linestyle='dashed', linewidth=2, label='chi 4')\n",
    "#ax.axvline(x=chi_3, color='tab:orange', linestyle='dashed', linewidth=2, label='chi 3')\n",
    "#ax.axvline(x=chi_2, color='tab:brown', linestyle='dashed', linewidth=2, label='chi 2')\n",
    "#ax.axvline(x=chi_1, color='grey', linestyle='dashed', linewidth=2, label='chi 1')\n",
    "\n",
    "ax.legend()\n",
    "\n",
    "plt.show()"
   ]
  },
  {
   "cell_type": "code",
   "execution_count": 21,
   "metadata": {},
   "outputs": [
    {
     "data": {
      "image/png": "[encoded data removed]",
      "text/plain": [
       "<Figure size 432x288 with 1 Axes>"
      ]
     },
     "metadata": {},
     "output_type": "display_data"
    }
   ],
   "source": [
    "x1 = null_chi5\n",
    "#x2 = alt_chi5\n",
    "\n",
    "fig, ax = plt.subplots()\n",
    "plt.hist(x1, bins=10, label='null')\n",
    "#plt.hist(x2, bins=10, label='alt')\n",
    "#ax.axvline(x=chi_10, color='m', linestyle='dashed', linewidth=2, label='chi 10')\n",
    "#ax.axvline(x=chi_9, color='b', linestyle='dashed', linewidth=2, label='chi 9')\n",
    "#ax.axvline(x=chi_8, color='m', linestyle='dashed', linewidth=2, label='chi 8')\n",
    "#ax.axvline(x=chi_7, color='c', linestyle='dashed', linewidth=2, label='chi 7')\n",
    "#ax.axvline(x=chi_6, color='m', linestyle='dashed', linewidth=2, label='chi 6')\n",
    "ax.axvline(x=chi_5, color='m', linestyle='dashed', linewidth=2, label='chi 5')\n",
    "#ax.axvline(x=chi_4, color='k', linestyle='dashed', linewidth=2, label='chi 4')\n",
    "#ax.axvline(x=chi_3, color='tab:orange', linestyle='dashed', linewidth=2, label='chi 3')\n",
    "#ax.axvline(x=chi_2, color='tab:brown', linestyle='dashed', linewidth=2, label='chi 2')\n",
    "#ax.axvline(x=chi_1, color='grey', linestyle='dashed', linewidth=2, label='chi 1')\n",
    "\n",
    "ax.legend()\n",
    "\n",
    "plt.show()"
   ]
  },
  {
   "cell_type": "code",
   "execution_count": 82,
   "metadata": {},
   "outputs": [
    {
     "data": {
      "image/png": "[encoded data removed]",
      "text/plain": [
       "<Figure size 432x288 with 1 Axes>"
      ]
     },
     "metadata": {},
     "output_type": "display_data"
    }
   ],
   "source": [
    "x1 = null_chi4\n",
    "x2 = alt_chi4\n",
    "\n",
    "fig, ax = plt.subplots()\n",
    "plt.hist(x1, bins=10, label='null')\n",
    "plt.hist(x2, bins=10, label='alt')\n",
    "#ax.axvline(x=chi_10, color='m', linestyle='dashed', linewidth=2, label='chi 10')\n",
    "#ax.axvline(x=chi_9, color='b', linestyle='dashed', linewidth=2, label='chi 9')\n",
    "#ax.axvline(x=chi_8, color='m', linestyle='dashed', linewidth=2, label='chi 8')\n",
    "#ax.axvline(x=chi_7, color='c', linestyle='dashed', linewidth=2, label='chi 7')\n",
    "#ax.axvline(x=chi_6, color='m', linestyle='dashed', linewidth=2, label='chi 6')\n",
    "#ax.axvline(x=chi_5, color='y', linestyle='dashed', linewidth=2, label='chi 5')\n",
    "ax.axvline(x=chi_4, color='m', linestyle='dashed', linewidth=2, label='chi 4')\n",
    "#ax.axvline(x=chi_3, color='tab:orange', linestyle='dashed', linewidth=2, label='chi 3')\n",
    "#ax.axvline(x=chi_2, color='tab:brown', linestyle='dashed', linewidth=2, label='chi 2')\n",
    "#ax.axvline(x=chi_1, color='grey', linestyle='dashed', linewidth=2, label='chi 1')\n",
    "\n",
    "ax.legend()\n",
    "\n",
    "plt.show()"
   ]
  },
  {
   "cell_type": "code",
   "execution_count": 83,
   "metadata": {},
   "outputs": [
    {
     "data": {
      "image/png": "[encoded data removed]",
      "text/plain": [
       "<Figure size 432x288 with 1 Axes>"
      ]
     },
     "metadata": {},
     "output_type": "display_data"
    }
   ],
   "source": [
    "x1 = null_chi3\n",
    "x2 = alt_chi3\n",
    "\n",
    "fig, ax = plt.subplots()\n",
    "plt.hist(x1, bins=10, label='null')\n",
    "plt.hist(x2, bins=10, label='alt')\n",
    "#ax.axvline(x=chi_10, color='m', linestyle='dashed', linewidth=2, label='chi 10')\n",
    "#ax.axvline(x=chi_9, color='b', linestyle='dashed', linewidth=2, label='chi 9')\n",
    "#ax.axvline(x=chi_8, color='m', linestyle='dashed', linewidth=2, label='chi 8')\n",
    "#ax.axvline(x=chi_7, color='c', linestyle='dashed', linewidth=2, label='chi 7')\n",
    "#ax.axvline(x=chi_6, color='m', linestyle='dashed', linewidth=2, label='chi 6')\n",
    "#ax.axvline(x=chi_5, color='y', linestyle='dashed', linewidth=2, label='chi 5')\n",
    "#ax.axvline(x=chi_4, color='k', linestyle='dashed', linewidth=2, label='chi 4')\n",
    "ax.axvline(x=chi_3, color='m', linestyle='dashed', linewidth=2, label='chi 3')\n",
    "#ax.axvline(x=chi_2, color='tab:brown', linestyle='dashed', linewidth=2, label='chi 2')\n",
    "#ax.axvline(x=chi_1, color='grey', linestyle='dashed', linewidth=2, label='chi 1')\n",
    "\n",
    "ax.legend()\n",
    "\n",
    "plt.show()"
   ]
  },
  {
   "cell_type": "code",
   "execution_count": 84,
   "metadata": {},
   "outputs": [
    {
     "data": {
      "image/png": "[encoded data removed]",
      "text/plain": [
       "<Figure size 432x288 with 1 Axes>"
      ]
     },
     "metadata": {},
     "output_type": "display_data"
    }
   ],
   "source": [
    "x1 = null_chi2\n",
    "x2 = alt_chi2\n",
    "\n",
    "fig, ax = plt.subplots()\n",
    "plt.hist(x1, bins=10, label='null')\n",
    "plt.hist(x2, bins=10, label='alt')\n",
    "#ax.axvline(x=chi_10, color='m', linestyle='dashed', linewidth=2, label='chi 10')\n",
    "#ax.axvline(x=chi_9, color='b', linestyle='dashed', linewidth=2, label='chi 9')\n",
    "#ax.axvline(x=chi_8, color='m', linestyle='dashed', linewidth=2, label='chi 8')\n",
    "#ax.axvline(x=chi_7, color='c', linestyle='dashed', linewidth=2, label='chi 7')\n",
    "#ax.axvline(x=chi_6, color='m', linestyle='dashed', linewidth=2, label='chi 6')\n",
    "#ax.axvline(x=chi_5, color='y', linestyle='dashed', linewidth=2, label='chi 5')\n",
    "#ax.axvline(x=chi_4, color='k', linestyle='dashed', linewidth=2, label='chi 4')\n",
    "#ax.axvline(x=chi_3, color='tab:orange', linestyle='dashed', linewidth=2, label='chi 3')\n",
    "ax.axvline(x=chi_2, color='m', linestyle='dashed', linewidth=2, label='chi 2')\n",
    "#ax.axvline(x=chi_1, color='grey', linestyle='dashed', linewidth=2, label='chi 1')\n",
    "\n",
    "ax.legend()\n",
    "\n",
    "plt.show()"
   ]
  },
  {
   "cell_type": "code",
   "execution_count": 85,
   "metadata": {},
   "outputs": [
    {
     "data": {
      "image/png": "[encoded data removed]",
      "text/plain": [
       "<Figure size 432x288 with 1 Axes>"
      ]
     },
     "metadata": {},
     "output_type": "display_data"
    }
   ],
   "source": [
    "x1 = null_chi1\n",
    "x2 = alt_chi1\n",
    "\n",
    "fig, ax = plt.subplots()\n",
    "plt.hist(x1, bins=10, label='null')\n",
    "plt.hist(x2, bins=10, label='alt')\n",
    "#ax.axvline(x=chi_10, color='m', linestyle='dashed', linewidth=2, label='chi 10')\n",
    "#ax.axvline(x=chi_9, color='b', linestyle='dashed', linewidth=2, label='chi 9')\n",
    "#ax.axvline(x=chi_8, color='m', linestyle='dashed', linewidth=2, label='chi 8')\n",
    "#ax.axvline(x=chi_7, color='c', linestyle='dashed', linewidth=2, label='chi 7')\n",
    "#ax.axvline(x=chi_6, color='m', linestyle='dashed', linewidth=2, label='chi 6')\n",
    "#ax.axvline(x=chi_5, color='y', linestyle='dashed', linewidth=2, label='chi 5')\n",
    "#ax.axvline(x=chi_4, color='k', linestyle='dashed', linewidth=2, label='chi 4')\n",
    "#ax.axvline(x=chi_3, color='tab:orange', linestyle='dashed', linewidth=2, label='chi 3')\n",
    "#ax.axvline(x=chi_2, color='tab:brown', linestyle='dashed', linewidth=2, label='chi 2')\n",
    "ax.axvline(x=chi_1, color='m', linestyle='dashed', linewidth=2, label='chi 1')\n",
    "\n",
    "ax.legend()\n",
    "\n",
    "plt.show()"
   ]
  },
  {
   "cell_type": "code",
   "execution_count": 17,
   "metadata": {},
   "outputs": [],
   "source": [
    "def p_value(x, null_distrib):\n",
    "    thing1 = 0\n",
    "    for item in null_distrib:\n",
    "        if item > x:\n",
    "            thing1 = thing1 + 1\n",
    "    thing2 = thing1/10000\n",
    "    return thing2"
   ]
  },
  {
   "cell_type": "code",
   "execution_count": 18,
   "metadata": {},
   "outputs": [],
   "source": [
    "def reverse_p_value(x, null_distrib):\n",
    "    thing1 = x * 10000\n",
    "    thing1 = int(thing1)\n",
    "    null_distrib = np.sort(null_distrib)\n",
    "    thing2 = null_distrib[(10000-thing1):10000]\n",
    "    return thing2[0]"
   ]
  },
  {
   "cell_type": "code",
   "execution_count": 19,
   "metadata": {},
   "outputs": [
    {
     "data": {
      "text/plain": [
       "10501.79364632"
      ]
     },
     "execution_count": 19,
     "metadata": {},
     "output_type": "execute_result"
    }
   ],
   "source": [
    "reverse_p_value(0.0013, null_chi10)"
   ]
  },
  {
   "cell_type": "code",
   "execution_count": 19,
   "metadata": {},
   "outputs": [],
   "source": [
    "def lots_reversep(x):\n",
    "    thing1 = np.array([])\n",
    "    thing2 = np.array([null_chi1, null_chi2, null_chi3, null_chi4, null_chi5, null_chi6, null_chi7, null_chi8, null_chi9, null_chi10])\n",
    "    for item in thing2:\n",
    "        thing3 = reverse_p_value(x, item)\n",
    "        thing1 = np.append(thing3, thing1)\n",
    "    return thing1"
   ]
  },
  {
   "cell_type": "code",
   "execution_count": 20,
   "metadata": {},
   "outputs": [
    {
     "data": {
      "text/plain": [
       "array([10501.79364632, 10735.9117715 , 10945.43111562, 10850.2278636 ,\n",
       "       10374.8438031 , 10318.35151132, 10331.8110815 , 10310.2372269 ,\n",
       "       10251.41764046, 10177.36566864])"
      ]
     },
     "execution_count": 20,
     "metadata": {},
     "output_type": "execute_result"
    }
   ],
   "source": [
    "lots_reversep(0.0013)"
   ]
  },
  {
   "cell_type": "code",
   "execution_count": 21,
   "metadata": {},
   "outputs": [],
   "source": [
    "def percent_sensitivity(num_seeds, num_clusters, num_counts, range, bckgd, dec, p, null_distrib):\n",
    "    x = reverse_p_value(p, null_distrib)\n",
    "    y = 0\n",
    "    z = alt_chi_squared_distrib(num_seeds, num_clusters, num_counts, range, bckgd, dec)\n",
    "    for item in z:\n",
    "        if item > x:\n",
    "            y = y + 1\n",
    "    thing1 = y/num_seeds\n",
    "    return thing1   "
   ]
  },
  {
   "cell_type": "code",
   "execution_count": 23,
   "metadata": {},
   "outputs": [
    {
     "data": {
      "text/plain": [
       "0.9166"
      ]
     },
     "execution_count": 23,
     "metadata": {},
     "output_type": "execute_result"
    }
   ],
   "source": [
    "percent_sensitivity(10000, 1, 55, 1, average_background10, bin10[4], 0.0013, null_chi10)"
   ]
  },
  {
   "cell_type": "code",
   "execution_count": 22,
   "metadata": {},
   "outputs": [
    {
     "data": {
      "text/plain": [
       "0"
      ]
     },
     "execution_count": 22,
     "metadata": {},
     "output_type": "execute_result"
    }
   ],
   "source": [
    "thing2 = np.array([])\n",
    "len(thing2)"
   ]
  },
  {
   "cell_type": "code",
   "execution_count": 22,
   "metadata": {},
   "outputs": [],
   "source": [
    "def reverse_sensitivity(z, x, avgbkgd, dec, p, null_distrib):\n",
    "    thing1 = np.arange(z, x)\n",
    "    thing2 = np.array([])\n",
    "    for item in thing1:\n",
    "        thing3 = percent_sensitivity(10000, 1, item, 1, avgbkgd, dec, p, null_distrib)\n",
    "        if thing3 > 0.9:\n",
    "            thing2 = np.append(thing3, thing2)\n",
    "    num = x - z\n",
    "    num2 = len(thing2)\n",
    "    if num2 == 0:\n",
    "        num3 = 'None'\n",
    "    else:\n",
    "        num3 = num - num2 + z\n",
    "    return num3"
   ]
  },
  {
   "cell_type": "code",
   "execution_count": 24,
   "metadata": {},
   "outputs": [
    {
     "data": {
      "text/plain": [
       "54"
      ]
     },
     "execution_count": 24,
     "metadata": {},
     "output_type": "execute_result"
    }
   ],
   "source": [
    "cluster_sensitivity10 = reverse_sensitivity(40, 61, average_background10, bin10[4], 0.0013, null_chi10)"
   ]
  },
  {
   "cell_type": "code",
   "execution_count": 23,
   "metadata": {},
   "outputs": [
    {
     "data": {
      "text/plain": [
       "59"
      ]
     },
     "execution_count": 23,
     "metadata": {},
     "output_type": "execute_result"
    }
   ],
   "source": [
    "cluster_sensitivity9 = reverse_sensitivity(40, 61, average_background9, bin9[4], 0.0013, null_chi9)"
   ]
  },
  {
   "cell_type": "code",
   "execution_count": 26,
   "metadata": {},
   "outputs": [
    {
     "data": {
      "text/plain": [
       "62"
      ]
     },
     "execution_count": 26,
     "metadata": {},
     "output_type": "execute_result"
    }
   ],
   "source": [
    "cluster_sensitivity8 = reverse_sensitivity(40, 68, average_background8, bin8[4], 0.0013, null_chi8)"
   ]
  },
  {
   "cell_type": "code",
   "execution_count": 27,
   "metadata": {},
   "outputs": [
    {
     "data": {
      "text/plain": [
       "61"
      ]
     },
     "execution_count": 27,
     "metadata": {},
     "output_type": "execute_result"
    }
   ],
   "source": [
    "cluster_sensitivity7 = reverse_sensitivity(40, 65, average_background7, bin7[4], 0.0013, null_chi7)"
   ]
  },
  {
   "cell_type": "code",
   "execution_count": 25,
   "metadata": {},
   "outputs": [
    {
     "data": {
      "text/plain": [
       "51"
      ]
     },
     "execution_count": 25,
     "metadata": {},
     "output_type": "execute_result"
    }
   ],
   "source": [
    "cluster_sensitivity6 = reverse_sensitivity(45, 61, average_background6, bin6[4], 0.0013, null_chi6)"
   ]
  },
  {
   "cell_type": "code",
   "execution_count": 28,
   "metadata": {},
   "outputs": [
    {
     "data": {
      "text/plain": [
       "51"
      ]
     },
     "execution_count": 28,
     "metadata": {},
     "output_type": "execute_result"
    }
   ],
   "source": [
    "cluster_sensitivity5 = reverse_sensitivity(40, 65, average_background5, bin5[4], 0.0013, null_chi5)"
   ]
  },
  {
   "cell_type": "code",
   "execution_count": 29,
   "metadata": {},
   "outputs": [
    {
     "data": {
      "text/plain": [
       "51"
      ]
     },
     "execution_count": 29,
     "metadata": {},
     "output_type": "execute_result"
    }
   ],
   "source": [
    "cluster_sensitivity4 = reverse_sensitivity(40, 61, average_background4, bin4[4], 0.0013, null_chi4)"
   ]
  },
  {
   "cell_type": "code",
   "execution_count": 30,
   "metadata": {},
   "outputs": [
    {
     "data": {
      "text/plain": [
       "50"
      ]
     },
     "execution_count": 30,
     "metadata": {},
     "output_type": "execute_result"
    }
   ],
   "source": [
    "cluster_sensitivity3 = reverse_sensitivity(30, 61, average_background3, bin3[4], 0.0013, null_chi3)"
   ]
  },
  {
   "cell_type": "code",
   "execution_count": 31,
   "metadata": {},
   "outputs": [
    {
     "data": {
      "text/plain": [
       "49"
      ]
     },
     "execution_count": 31,
     "metadata": {},
     "output_type": "execute_result"
    }
   ],
   "source": [
    "cluster_sensitivity2 = reverse_sensitivity(40, 61, average_background2, bin2[4], 0.0013, null_chi2)"
   ]
  },
  {
   "cell_type": "code",
   "execution_count": 32,
   "metadata": {},
   "outputs": [
    {
     "data": {
      "text/plain": [
       "47"
      ]
     },
     "execution_count": 32,
     "metadata": {},
     "output_type": "execute_result"
    }
   ],
   "source": [
    "cluster_sensitivity1 = reverse_sensitivity(40, 61, average_background1, bin1[4], 0.0013, null_chi1)"
   ]
  },
  {
   "cell_type": "code",
   "execution_count": 26,
   "metadata": {},
   "outputs": [],
   "source": [
    "thing1 = np.array([average_background10, average_background9, average_background8, average_background7, average_background6, average_background5, average_background4, average_background3, average_background2, average_background1])\n",
    "thing2 = np.array([null_chi1, null_chi2, null_chi3, null_chi4, null_chi5, null_chi6, null_chi7, null_chi8, null_chi9, null_chi10])\n",
    "thing3 = np.array([bin10[4], bin9[4], bin8[4], bin7[4], bin6[4], bin5[4], bin4[4], bin3[4], bin2[4], bin1[4]])"
   ]
  },
  {
   "cell_type": "code",
   "execution_count": 27,
   "metadata": {},
   "outputs": [],
   "source": [
    "def lots_reverse_sensitivity(z, x, p):\n",
    "    thing0 = np.array([])\n",
    "    thing4 = np.arange(0,11)\n",
    "    for item in thing4:\n",
    "        thing5 = reverse_sensitivity(z, x, thing1[item], thing3[item], p, thing2[item])\n",
    "        thing0 = np.append(thing5, thing0)\n",
    "    return thing0"
   ]
  },
  {
   "cell_type": "code",
   "execution_count": null,
   "metadata": {},
   "outputs": [],
   "source": [
    "lots_reverse_sensitivity(40, 61, 0.0013)"
   ]
  },
  {
   "cell_type": "code",
   "execution_count": null,
   "metadata": {},
   "outputs": [],
   "source": []
  }
 ],
 "metadata": {
  "kernelspec": {
   "display_name": "Python 3",
   "language": "python",
   "name": "python3"
  },
  "language_info": {
   "codemirror_mode": {
    "name": "ipython",
    "version": 3
   },
   "file_extension": ".py",
   "mimetype": "text/x-python",
   "name": "python",
   "nbconvert_exporter": "python",
   "pygments_lexer": "ipython3",
   "version": "3.6.9"
  }
 },
 "nbformat": 4,
 "nbformat_minor": 2
}
