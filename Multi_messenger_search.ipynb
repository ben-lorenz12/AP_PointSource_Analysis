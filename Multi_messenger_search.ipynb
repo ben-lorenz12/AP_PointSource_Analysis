{
 "cells": [
  {
   "cell_type": "code",
   "execution_count": 1,
   "id": "sealed-mount",
   "metadata": {},
   "outputs": [],
   "source": [
    "import numpy as np\n",
    "import matplotlib.pyplot as plt"
   ]
  },
  {
   "cell_type": "code",
   "execution_count": 28,
   "id": "thorough-earth",
   "metadata": {},
   "outputs": [],
   "source": [
    "#getting and sorting data\n",
    "data = np.loadtxt(r\"C:\\Users\\samlo\\Downloads\\data.txt\", skiprows=1, dtype=\"str\")\n",
    "data = data.transpose() #flipping array"
   ]
  },
  {
   "cell_type": "code",
   "execution_count": 38,
   "id": "standard-electricity",
   "metadata": {},
   "outputs": [
    {
     "data": {
      "text/plain": [
       "'0.0377'"
      ]
     },
     "execution_count": 38,
     "metadata": {},
     "output_type": "execute_result"
    }
   ],
   "source": [
    "data[1,0]"
   ]
  },
  {
   "cell_type": "code",
   "execution_count": 39,
   "id": "binary-growth",
   "metadata": {},
   "outputs": [],
   "source": [
    "def sort(ra, dec):\n",
    "    a = []\n",
    "    b= -1\n",
    "    for item in data[1]:\n",
    "        item = float(item)\n",
    "        b = b + 1\n",
    "        if (ra -1) < item < (ra +1):\n",
    "            if (dec -1) < float(data[2,b]) < (dec+1):\n",
    "                a = a.append(data[0, b])\n",
    "    return a"
   ]
  },
  {
   "cell_type": "code",
   "execution_count": 41,
   "id": "limited-implement",
   "metadata": {},
   "outputs": [
    {
     "data": {
      "text/plain": [
       "[]"
      ]
     },
     "execution_count": 41,
     "metadata": {},
     "output_type": "execute_result"
    }
   ],
   "source": [
    "sort(87, -1)"
   ]
  },
  {
   "cell_type": "code",
   "execution_count": 43,
   "id": "filled-victor",
   "metadata": {},
   "outputs": [
    {
     "data": {
      "text/plain": [
       "[]"
      ]
     },
     "execution_count": 43,
     "metadata": {},
     "output_type": "execute_result"
    }
   ],
   "source": [
    "sort(275, -29)"
   ]
  },
  {
   "cell_type": "code",
   "execution_count": null,
   "id": "finite-cache",
   "metadata": {},
   "outputs": [],
   "source": []
  }
 ],
 "metadata": {
  "kernelspec": {
   "display_name": "Python 3",
   "language": "python",
   "name": "python3"
  },
  "language_info": {
   "codemirror_mode": {
    "name": "ipython",
    "version": 3
   },
   "file_extension": ".py",
   "mimetype": "text/x-python",
   "name": "python",
   "nbconvert_exporter": "python",
   "pygments_lexer": "ipython3",
   "version": "3.9.2"
  }
 },
 "nbformat": 4,
 "nbformat_minor": 5
}
